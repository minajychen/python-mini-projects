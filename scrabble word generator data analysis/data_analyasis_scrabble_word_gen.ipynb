{
 "cells": [
  {
   "cell_type": "markdown",
   "metadata": {},
   "source": [
    "# Problem 9 - Scrabble Word Length Bias\n",
    "----\n",
    "In a previous assignment you created a Scrabble word generator that takes a rack of letters and shows all the possible words that can be created. What is the efficiency, in big-O notation, of your solution?\n"
   ]
  },
  {
   "cell_type": "markdown",
   "metadata": {},
   "source": [
    "my solution had a O(N!) big-O efficiency, because though it only had one while loop, the permutations (N!) increases in a factorial manner as the number of letters increase"
   ]
  },
  {
   "cell_type": "markdown",
   "metadata": {},
   "source": [
    "Write a program that randomly selects 7 letters and computes the time it takes to compute all the valid words for each possible word length. Run your program 10 times and plot out the results for each random set of letters.\n",
    "\n",
    "The plots should look similar to the following:\n",
    "\n",
    "![](images/plot_9.png)"
   ]
  },
  {
   "cell_type": "code",
   "execution_count": 23,
   "metadata": {},
   "outputs": [
    {
     "data": {
      "image/png": "[encoded data removed]",
      "text/plain": [
       "<Figure size 432x288 with 1 Axes>"
      ]
     },
     "metadata": {
      "needs_background": "light"
     },
     "output_type": "display_data"
    }
   ],
   "source": [
    "import matplotlib.pyplot as plt\n",
    "import random\n",
    "import string\n",
    "import time\n",
    "import itertools\n",
    "\n",
    "class Word:\n",
    "    def __init__(self, word):\n",
    "        self.word = word\n",
    "        self.length = len(word)\n",
    "\n",
    "class ScrabbleWordValidator:\n",
    "    def __init__(self):\n",
    "        scrabble_file=open(\"scrabble_list.txt\",'r')\n",
    "        scrabble_content=scrabble_file.read()\n",
    "        scrabble_neutral=scrabble_content.lower()\n",
    "        scrabble_list=scrabble_neutral.split()\n",
    "        i=0\n",
    "        scrabble_tuples=[]\n",
    "        while i < 53901:\n",
    "            splitted=tuple(list(scrabble_list[i]))\n",
    "            scrabble_tuples.append(splitted)\n",
    "            i+=1\n",
    "        self.word_list=[]\n",
    "        for t in scrabble_tuples:\n",
    "            self.word_list.append(\"\".join(t))\n",
    "\n",
    "    \n",
    "    def is_scrabble(self, word):\n",
    "        if word in self.word_list:\n",
    "            return True\n",
    "        else:\n",
    "            return False\n",
    "\n",
    "scrabble_list = ScrabbleWordValidator()\n",
    "\n",
    "random_letters=''.join(random.choices(string.ascii_lowercase, k=7))\n",
    "\n",
    "x1=[]\n",
    "y1=[]\n",
    "word_objects = []\n",
    "x=2\n",
    "while x <=7:\n",
    "    x1.append(x)\n",
    "    start=time.time()\n",
    "    word_tuples= list(itertools.permutations(list(random_letters),x))\n",
    "    for t in word_tuples:\n",
    "        word=\"\".join(t)\n",
    "        if scrabble_list.is_scrabble(word):\n",
    "            word_objects.append(word)\n",
    "    end=time.time()\n",
    "    y1.append(end-start)\n",
    "    x+=1\n",
    "\n",
    "plt.bar(x1, y1, color='b')\n",
    "plt.plot()\n",
    "\n",
    "plt.xlabel(\"Word Length\")\n",
    "plt.ylabel(\"Time (in seconds)\")\n",
    "plt.title(\"Random Letters : {}\".format(random_letters))\n",
    "plt.show()\n"
   ]
  },
  {
   "cell_type": "markdown",
   "metadata": {},
   "source": [
    "Do the specific letters that are in your rack affect the efficiency of your solution? Do they impact the actual runtime? How can can you design an experiment to verify this? Run your experiment and provide evidence to support your claim."
   ]
  },
  {
   "cell_type": "markdown",
   "metadata": {},
   "source": [
    "I initially thought that letters that were appeared more frequently in the valid scrabble list would incur more runtime. However, after I did my experiment below with a similar type of operation as my program above, it does not seem like the letter affects the program runtime by that much."
   ]
  },
  {
   "cell_type": "code",
   "execution_count": 26,
   "metadata": {},
   "outputs": [
    {
     "data": {
      "image/png": "[encoded data removed]",
      "text/plain": [
       "<Figure size 432x288 with 1 Axes>"
      ]
     },
     "metadata": {
      "needs_background": "light"
     },
     "output_type": "display_data"
    }
   ],
   "source": [
    "import string\n",
    "\n",
    "scrabble_file=open(\"scrabble_list.txt\",'r')\n",
    "scrabble_content=scrabble_file.read()\n",
    "scrabble_neutral=scrabble_content.lower()\n",
    "scrabble_list=scrabble_neutral.split()\n",
    "i=0\n",
    "scrabble_tuples=[]\n",
    "while i < 53901:\n",
    "    splitted=tuple(list(scrabble_list[i]))\n",
    "    scrabble_tuples.append(splitted)\n",
    "    i+=1\n",
    "word_list=[]\n",
    "for t in scrabble_tuples:\n",
    "    word_list.append(\"\".join(t))\n",
    "\n",
    "x2=[]\n",
    "y2=[]\n",
    "\n",
    "word_storer=[]\n",
    "o=0\n",
    "while o<27:\n",
    "    for alpha in string.ascii_lowercase:\n",
    "        x2.append(alpha)\n",
    "        start=time.time()\n",
    "        for word in word_list:\n",
    "            word_storer.append(word)\n",
    "        end=time.time()\n",
    "        y2.append(end-start)\n",
    "        o+=1\n",
    "\n",
    "plt.bar(x2, y2, color='b')\n",
    "plt.plot()\n",
    "\n",
    "plt.xlabel(\"alphabet\")\n",
    "plt.ylabel(\"Time (in seconds)\")\n",
    "plt.title(\"Alphabet v. Runtime of Words that include the Alphabet\")\n",
    "plt.show()\n"
   ]
  },
  {
   "cell_type": "code",
   "execution_count": null,
   "metadata": {},
   "outputs": [],
   "source": []
  }
 ],
 "metadata": {
  "kernelspec": {
   "display_name": "Python 3",
   "language": "python",
   "name": "python3"
  },
  "language_info": {
   "codemirror_mode": {
    "name": "ipython",
    "version": 3
   },
   "file_extension": ".py",
   "mimetype": "text/x-python",
   "name": "python",
   "nbconvert_exporter": "python",
   "pygments_lexer": "ipython3",
   "version": "3.8.8"
  }
 },
 "nbformat": 4,
 "nbformat_minor": 2
}
